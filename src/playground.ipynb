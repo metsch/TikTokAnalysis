{
 "cells": [
  {
   "cell_type": "code",
   "execution_count": null,
   "metadata": {},
   "outputs": [],
   "source": [
    "import pandas as pd;\n",
    "import json\n",
    "\n",
    "in_ = pd.read_csv(\"../data/trump_10_1604411869.csv\")\n",
    "in_.head(3)"
   ]
  },
  {
   "cell_type": "markdown",
   "metadata": {},
   "source": [
    "Each column, e.g. itemInfos contains a json string which I have to load into a new dataframe to further work with the data.\n",
    "\n",
    "Strings received from the API are enclose with single ' thingys, which is not json conform, thats why I have to make the replace call.\n",
    "\n",
    "In this cell, I just extract the col names from the given column from the original dataframe. \n",
    "col:  __itemInfos__\n",
    "\n",
    "Interesting fields in itemInfos are authorId and text. The text column contains each hashtag of a tiktok.\n",
    "My plan with authorId and the hashtags is a graph visualization of common hashtags.\n"
   ]
  },
  {
   "cell_type": "code",
   "execution_count": 2,
   "metadata": {},
   "outputs": [
    {
     "data": {
      "text/plain": [
       "\"{'secUid': 'MS4wLjABAAAAPrxASLep7yzGv3ZDK_w77uvVAScd4eSO1cLT2H6YRRZD6pqBu7liCiwccQl2L1aP', 'userId': '6787000922671694853', 'uniqueId': 'nautical80', 'nickName': 'HD-80', 'signature': '18 | 🇺🇸🇮🇱 \\\\nHe/Him\\\\ngrazie // BLM\\\\n@theleftlads\\\\nsink, swim, or be the captain', 'verified': False, 'covers': ['https://p16-sign-va.tiktokcdn.com/tos-maliva-avt-0068/5af453b9a301053d6e2183ec568be270~c5_100x100.jpeg?x-expires=1604494800&x-signature=dgLItxejXxCHNMki%2FlKgv0k0Xec%3D'], 'coversMedium': ['https://p16-sign-va.tiktokcdn.com/tos-maliva-avt-0068/5af453b9a301053d6e2183ec568be270~c5_720x720.jpeg?x-expires=1604494800&x-signature=n55YzLLO6bUw%2FGSVcro6kse%2F28I%3D'], 'coversLarger': ['https://p16-sign-va.tiktokcdn.com/tos-maliva-avt-0068/5af453b9a301053d6e2183ec568be270~c5_1080x1080.jpeg?x-expires=1604494800&x-signature=XRYfsThOfbrL2z2K%2B%2FWc4HepxXo%3D'], 'isSecret': False, 'secret': False, 'relation': -1}\""
      ]
     },
     "metadata": {},
     "output_type": "display_data"
    },
    {
     "data": {
      "text/plain": [
       "Index(['secUid', 'userId', 'uniqueId', 'nickName', 'signature', 'verified',\n",
       "       'covers', 'coversMedium', 'coversLarger', 'isSecret', 'secret',\n",
       "       'relation'],\n",
       "      dtype='object')"
      ]
     },
     "execution_count": 2,
     "metadata": {},
     "output_type": "execute_result"
    }
   ],
   "source": [
    "display(in_.authorInfos[0])\n",
    "s = in_.authorInfos[0].replace(\"\\'\",\"\\\"\")\n",
    "temp = pd.DataFrame.from_dict(eval(s),orient=\"index\")\n",
    "temp = temp.transpose()\n",
    "cols = temp.columns\n",
    "cols"
   ]
  },
  {
   "cell_type": "code",
   "execution_count": 3,
   "metadata": {},
   "outputs": [
    {
     "data": {
      "text/plain": [
       "\"{'musicId': '6839079417323571973', 'musicName': '20 MIL WTF. follow my IG nautical80', 'authorName': 'HD-80', 'original': True, 'playUrl': ['https://sf16-sg.tiktokcdn.com/obj/musically-maliva-obj/6839079402282715910.mp3'], 'covers': ['https://p16-sign-va.tiktokcdn.com/tos-maliva-avt-0068/5af453b9a301053d6e2183ec568be270~c5_100x100.jpeg?x-expires=1604494800&x-signature=dgLItxejXxCHNMki%2FlKgv0k0Xec%3D'], 'coversMedium': ['https://p16-sign-va.tiktokcdn.com/tos-maliva-avt-0068/5af453b9a301053d6e2183ec568be270~c5_720x720.jpeg?x-expires=1604494800&x-signature=n55YzLLO6bUw%2FGSVcro6kse%2F28I%3D'], 'coversLarger': ['https://p16-sign-va.tiktokcdn.com/tos-maliva-avt-0068/5af453b9a301053d6e2183ec568be270~c5_1080x1080.jpeg?x-expires=1604494800&x-signature=XRYfsThOfbrL2z2K%2B%2FWc4HepxXo%3D']}\""
      ]
     },
     "metadata": {},
     "output_type": "display_data"
    },
    {
     "data": {
      "text/plain": [
       "Index(['musicId', 'musicName', 'authorName', 'original', 'playUrl', 'covers',\n",
       "       'coversMedium', 'coversLarger'],\n",
       "      dtype='object')"
      ]
     },
     "execution_count": 3,
     "metadata": {},
     "output_type": "execute_result"
    }
   ],
   "source": [
    "display(in_.musicInfos[0])\n",
    "s = in_.musicInfos[0].replace(\"\\'\",\"\\\"\")\n",
    "temp = pd.DataFrame.from_dict(eval(s),orient=\"index\")\n",
    "temp = temp.transpose()\n",
    "cols = temp.columns\n",
    "cols"
   ]
  },
  {
   "cell_type": "code",
   "execution_count": 4,
   "metadata": {},
   "outputs": [
    {
     "data": {
      "text/plain": [
       "\"{'followingCount': 263, 'followerCount': 198600, 'heartCount': '5900000', 'videoCount': 91, 'diggCount': 2150}\""
      ]
     },
     "metadata": {},
     "output_type": "display_data"
    },
    {
     "data": {
      "text/plain": [
       "Index(['followingCount', 'followerCount', 'heartCount', 'videoCount',\n",
       "       'diggCount'],\n",
       "      dtype='object')"
      ]
     },
     "execution_count": 4,
     "metadata": {},
     "output_type": "execute_result"
    }
   ],
   "source": [
    "display(in_.authorStats[0])\n",
    "s = in_.authorStats[0].replace(\"\\'\",\"\\\"\")\n",
    "temp = pd.DataFrame.from_dict(eval(s),orient=\"index\")\n",
    "temp = temp.transpose()\n",
    "cols = temp.columns\n",
    "cols"
   ]
  },
  {
   "cell_type": "code",
   "execution_count": 5,
   "metadata": {},
   "outputs": [
    {
     "data": {
      "text/plain": [
       "\"{'id': '6839079433794505989', 'text': 'Reply to @nickh1940 #repost share this so more ppl can see. It’s catchy too!! #trump #viral #fyp #foryoupage #parati #trumpsong #biden2020 #trump2020', 'stitchEnabled': True, 'shareEnabled': True, 'createTime': '1592347270', 'authorId': '6787000922671694853', 'musicId': '6839079417323571973', 'covers': ['https://p77-sign-sg.tiktokcdn.com/obj/tos-maliva-p-0068/780a73e9c5f648beb376481dd0616f3c?x-expires=1604430000&x-signature=jbDiUyZejKWcI7Mz%2BiOU1i7ih0k%3D'], 'coversOrigin': ['https://p77-sign-sg.tiktokcdn.com/obj/tos-maliva-p-0068/cb3796015cfb46a0ba861d7c32f7866c_1592347271?x-expires=1604430000&x-signature=LzxFIMcPT%2F%2Bnwplf18%2B8UrxdiJc%3D'], 'shareCover': ['', 'https://p77-sign-sg.tiktokcdn.com/tos-maliva-p-0068/cb3796015cfb46a0ba861d7c32f7866c_1592347271~tplv-tiktok-play.jpeg?x-expires=1604430000&x-signature=Fpw%2F8J58kAlAbkXQ3FgVWOSqFl4%3D', 'https://p77-sign-sg.tiktokcdn.com/tos-maliva-p-0068/cb3796015cfb46a0ba861d7c32f7866c_1592347271~tplv-tiktok-play2.jpeg?x-expires=1604430000&x-signature=KxXhp26BhWb1%2BW70%2BlZnA1ty0HA%3D'], 'coversDynamic': ['https://p77-sign-sg.tiktokcdn.com/obj/tos-maliva-p-0068/ba1e8cec61be49439458daf6d724899c_1592347273?x-expires=1604430000&x-signature=BPGVKIHzlsNQWO6%2B%2F50A0e5Oxcs%3D'], 'video': {'urls': ['https://v16-web.tiktok.com/video/tos/useast2a/tos-useast2a-ve-0068c004/4da8d66d4eb24896a2011b34d658d08c/?a=1988&br=2388&bt=1194&cr=0&cs=0&cv=1&dr=0&ds=3&er=&expire=1604433492&l=202011031357490101890482200B02D745&lr=tiktok_m&mime_type=video_mp4&policy=2&qs=0&rc=Mzt3dGk2OHhudTMzMzczM0ApPGc3NTlpOmQ7NzNpOzw1M2c2Y3E1a3JqaGhfLS1gMTZzc2IyMDAzLWEyMzAtYTUyMzU6Yw%3D%3D&signature=e2766777c1ef5bed40aaf9241e22d2a5&tk=tt_webid_v2&vl=&vr='], 'videoMeta': {'width': 576, 'height': 1024, 'ratio': 23, 'duration': 23}}, 'diggCount': 4700000, 'shareCount': 344200, 'playCount': 19400000, 'commentCount': 145900, 'isOriginal': False, 'isOfficial': False, 'isActivityItem': False, 'secret': False, 'forFriend': False, 'vl1': False, 'warnInfo': [], 'liked': False, 'commentStatus': 0, 'showNotPass': False, 'isAd': False, 'itemMute': False}\""
      ]
     },
     "metadata": {},
     "output_type": "display_data"
    },
    {
     "data": {
      "text/plain": [
       "Index(['id', 'text', 'stitchEnabled', 'shareEnabled', 'createTime', 'authorId',\n",
       "       'musicId', 'covers', 'coversOrigin', 'shareCover', 'coversDynamic',\n",
       "       'video', 'diggCount', 'shareCount', 'playCount', 'commentCount',\n",
       "       'isOriginal', 'isOfficial', 'isActivityItem', 'secret', 'forFriend',\n",
       "       'vl1', 'warnInfo', 'liked', 'commentStatus', 'showNotPass', 'isAd',\n",
       "       'itemMute'],\n",
       "      dtype='object')"
      ]
     },
     "execution_count": 5,
     "metadata": {},
     "output_type": "execute_result"
    }
   ],
   "source": [
    "display(in_.itemInfos[0])\n",
    "s = in_.itemInfos[0].replace(\"\\'\",\"\\\"\")\n",
    "temp = pd.DataFrame.from_dict(eval(s),orient=\"index\")\n",
    "temp = temp.transpose()\n",
    "cols = temp.columns\n",
    "cols"
   ]
  },
  {
   "cell_type": "code",
   "execution_count": 6,
   "metadata": {},
   "outputs": [
    {
     "ename": "NameError",
     "evalue": "name 'df' is not defined",
     "output_type": "error",
     "traceback": [
      "\u001b[1;31m---------------------------------------------------------------------------\u001b[0m",
      "\u001b[1;31mNameError\u001b[0m                                 Traceback (most recent call last)",
      "\u001b[1;32m<ipython-input-6-2431f46c3058>\u001b[0m in \u001b[0;36m<module>\u001b[1;34m\u001b[0m\n\u001b[0;32m      1\u001b[0m \u001b[0mdata\u001b[0m \u001b[1;33m=\u001b[0m \u001b[1;33m[\u001b[0m\u001b[1;33m]\u001b[0m\u001b[1;33m\u001b[0m\u001b[1;33m\u001b[0m\u001b[0m\n\u001b[1;32m----> 2\u001b[1;33m \u001b[1;32mfor\u001b[0m \u001b[0mindex\u001b[0m\u001b[1;33m,\u001b[0m\u001b[0mrow\u001b[0m \u001b[1;32min\u001b[0m \u001b[0mdf\u001b[0m\u001b[1;33m.\u001b[0m\u001b[0miterrows\u001b[0m\u001b[1;33m(\u001b[0m\u001b[1;33m)\u001b[0m\u001b[1;33m:\u001b[0m\u001b[1;33m\u001b[0m\u001b[1;33m\u001b[0m\u001b[0m\n\u001b[0m\u001b[0;32m      3\u001b[0m     \u001b[0ms\u001b[0m \u001b[1;33m=\u001b[0m \u001b[0mrow\u001b[0m\u001b[1;33m.\u001b[0m\u001b[0mitemInfos\u001b[0m\u001b[1;33m.\u001b[0m\u001b[0mreplace\u001b[0m\u001b[1;33m(\u001b[0m\u001b[1;34m\"\\'\"\u001b[0m\u001b[1;33m,\u001b[0m\u001b[1;34m\"\\\"\"\u001b[0m\u001b[1;33m)\u001b[0m\u001b[1;33m\u001b[0m\u001b[1;33m\u001b[0m\u001b[0m\n\u001b[0;32m      4\u001b[0m     \u001b[0mdata\u001b[0m\u001b[1;33m.\u001b[0m\u001b[0mappend\u001b[0m\u001b[1;33m(\u001b[0m\u001b[0meval\u001b[0m\u001b[1;33m(\u001b[0m\u001b[0ms\u001b[0m\u001b[1;33m)\u001b[0m\u001b[1;33m)\u001b[0m\u001b[1;33m\u001b[0m\u001b[1;33m\u001b[0m\u001b[0m\n\u001b[0;32m      5\u001b[0m \u001b[1;33m\u001b[0m\u001b[0m\n",
      "\u001b[1;31mNameError\u001b[0m: name 'df' is not defined"
     ]
    }
   ],
   "source": [
    "data = []\n",
    "for index,row in df.iterrows():\n",
    "    s = row.itemInfos.replace(\"\\'\",\"\\\"\")\n",
    "    data.append(eval(s))\n",
    "\n",
    "d = pd.DataFrame(data,columns=cols)"
   ]
  },
  {
   "cell_type": "code",
   "execution_count": 94,
   "metadata": {},
   "outputs": [
    {
     "data": {
      "text/plain": [
       "10"
      ]
     },
     "execution_count": 94,
     "metadata": {},
     "output_type": "execute_result"
    }
   ],
   "source": [
    "len(d)"
   ]
  },
  {
   "cell_type": "code",
   "execution_count": 96,
   "metadata": {},
   "outputs": [
    {
     "data": {
      "text/plain": [
       "{'id': '6839079433794505989',\n",
       " 'text': 'Reply to @nickh1940 #repost share this so more ppl can see. It’s catchy too!! #trump #viral #fyp #foryoupage #parati #trumpsong #biden2020 #trump2020',\n",
       " 'stitchEnabled': True,\n",
       " 'shareEnabled': True,\n",
       " 'createTime': '1592347270',\n",
       " 'authorId': '6787000922671694853',\n",
       " 'musicId': '6839079417323571973',\n",
       " 'covers': ['https://p77-sign-sg.tiktokcdn.com/obj/tos-maliva-p-0068/780a73e9c5f648beb376481dd0616f3c?x-expires=1604430000&x-signature=jbDiUyZejKWcI7Mz%2BiOU1i7ih0k%3D'],\n",
       " 'coversOrigin': ['https://p77-sign-sg.tiktokcdn.com/obj/tos-maliva-p-0068/cb3796015cfb46a0ba861d7c32f7866c_1592347271?x-expires=1604430000&x-signature=LzxFIMcPT%2F%2Bnwplf18%2B8UrxdiJc%3D'],\n",
       " 'shareCover': ['',\n",
       "  'https://p77-sign-sg.tiktokcdn.com/tos-maliva-p-0068/cb3796015cfb46a0ba861d7c32f7866c_1592347271~tplv-tiktok-play.jpeg?x-expires=1604430000&x-signature=Fpw%2F8J58kAlAbkXQ3FgVWOSqFl4%3D',\n",
       "  'https://p77-sign-sg.tiktokcdn.com/tos-maliva-p-0068/cb3796015cfb46a0ba861d7c32f7866c_1592347271~tplv-tiktok-play2.jpeg?x-expires=1604430000&x-signature=KxXhp26BhWb1%2BW70%2BlZnA1ty0HA%3D'],\n",
       " 'coversDynamic': ['https://p77-sign-sg.tiktokcdn.com/obj/tos-maliva-p-0068/ba1e8cec61be49439458daf6d724899c_1592347273?x-expires=1604430000&x-signature=BPGVKIHzlsNQWO6%2B%2F50A0e5Oxcs%3D'],\n",
       " 'video': {'urls': ['https://v16-web.tiktok.com/video/tos/useast2a/tos-useast2a-ve-0068c004/4da8d66d4eb24896a2011b34d658d08c/?a=1988&br=2388&bt=1194&cr=0&cs=0&cv=1&dr=0&ds=3&er=&expire=1604433492&l=202011031357490101890482200B02D745&lr=tiktok_m&mime_type=video_mp4&policy=2&qs=0&rc=Mzt3dGk2OHhudTMzMzczM0ApPGc3NTlpOmQ7NzNpOzw1M2c2Y3E1a3JqaGhfLS1gMTZzc2IyMDAzLWEyMzAtYTUyMzU6Yw%3D%3D&signature=e2766777c1ef5bed40aaf9241e22d2a5&tk=tt_webid_v2&vl=&vr='],\n",
       "  'videoMeta': {'width': 576, 'height': 1024, 'ratio': 23, 'duration': 23}},\n",
       " 'diggCount': 4700000,\n",
       " 'shareCount': 344200,\n",
       " 'playCount': 19400000,\n",
       " 'commentCount': 145900,\n",
       " 'isOriginal': False,\n",
       " 'isOfficial': False,\n",
       " 'isActivityItem': False,\n",
       " 'secret': False,\n",
       " 'forFriend': False,\n",
       " 'vl1': False,\n",
       " 'warnInfo': [],\n",
       " 'liked': False,\n",
       " 'commentStatus': 0,\n",
       " 'showNotPass': False,\n",
       " 'isAd': False,\n",
       " 'itemMute': False}"
      ]
     },
     "execution_count": 96,
     "metadata": {},
     "output_type": "execute_result"
    }
   ],
   "source": [
    "data[0]"
   ]
  },
  {
   "cell_type": "code",
   "execution_count": 9,
   "metadata": {},
   "outputs": [
    {
     "data": {
      "text/plain": [
       "\"[{'AwemeId': '', 'Start': 9, 'End': 19, 'HashtagName': '', 'HashtagId': '', 'Type': 0, 'UserId': '152322808952430592', 'IsCommerce': False, 'UserUniqueId': 'nickh1940', 'SecUid': 'MS4wLjABAAAAVVJOPqXoXCSbzzSsdAh11nOghmzl0ua0jkx-C0Fgsrc4uLzFhs1o4POFmp6H0adl'}, {'AwemeId': '', 'Start': 20, 'End': 27, 'HashtagName': 'repost', 'HashtagId': '', 'Type': 1, 'UserId': '', 'IsCommerce': False, 'UserUniqueId': '', 'SecUid': ''}, {'AwemeId': '', 'Start': 78, 'End': 84, 'HashtagName': 'trump', 'HashtagId': '', 'Type': 1, 'UserId': '', 'IsCommerce': False, 'UserUniqueId': '', 'SecUid': ''}, {'AwemeId': '', 'Start': 85, 'End': 91, 'HashtagName': 'viral', 'HashtagId': '', 'Type': 1, 'UserId': '', 'IsCommerce': False, 'UserUniqueId': '', 'SecUid': ''}, {'AwemeId': '', 'Start': 92, 'End': 96, 'HashtagName': 'fyp', 'HashtagId': '', 'Type': 1, 'UserId': '', 'IsCommerce': False, 'UserUniqueId': '', 'SecUid': ''}, {'AwemeId': '', 'Start': 97, 'End': 108, 'HashtagName': 'foryoupage', 'HashtagId': '', 'Type': 1, 'UserId': '', 'IsCommerce': False, 'UserUniqueId': '', 'SecUid': ''}, {'AwemeId': '', 'Start': 109, 'End': 116, 'HashtagName': 'parati', 'HashtagId': '', 'Type': 1, 'UserId': '', 'IsCommerce': False, 'UserUniqueId': '', 'SecUid': ''}, {'AwemeId': '', 'Start': 117, 'End': 127, 'HashtagName': 'trumpsong', 'HashtagId': '', 'Type': 1, 'UserId': '', 'IsCommerce': False, 'UserUniqueId': '', 'SecUid': ''}, {'AwemeId': '', 'Start': 128, 'End': 138, 'HashtagName': 'biden2020', 'HashtagId': '', 'Type': 1, 'UserId': '', 'IsCommerce': False, 'UserUniqueId': '', 'SecUid': ''}, {'AwemeId': '', 'Start': 139, 'End': 149, 'HashtagName': 'trump2020', 'HashtagId': '', 'Type': 1, 'UserId': '', 'IsCommerce': False, 'UserUniqueId': '', 'SecUid': ''}]\""
      ]
     },
     "execution_count": 9,
     "metadata": {},
     "output_type": "execute_result"
    }
   ],
   "source": [
    "in_.textExtra[0]"
   ]
  },
  {
   "cell_type": "code",
   "execution_count": null,
   "metadata": {},
   "outputs": [],
   "source": []
  }
 ],
 "metadata": {
  "kernelspec": {
   "display_name": "Python 3",
   "language": "python",
   "name": "python3"
  },
  "language_info": {
   "codemirror_mode": {
    "name": "ipython",
    "version": 3
   },
   "file_extension": ".py",
   "mimetype": "text/x-python",
   "name": "python",
   "nbconvert_exporter": "python",
   "pygments_lexer": "ipython3",
   "version": "3.7.4"
  }
 },
 "nbformat": 4,
 "nbformat_minor": 4
}
