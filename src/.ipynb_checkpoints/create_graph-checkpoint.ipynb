{
 "cells": [
  {
   "cell_type": "code",
   "execution_count": null,
   "metadata": {},
   "outputs": [],
   "source": [
    "import pandas as pd\n",
    "import networkx as nx\n",
    "from networkx.algorithms import bipartite\n",
    "import itertools\n",
    "import matplotlib.pyplot as plt\n",
    "import plotly.graph_objects as go\n",
    "\n",
    "t_file = \"trump_1811_1604410542\"\n",
    "b_file = \"biden_1817_1604410734\"\n",
    "\n",
    "df_t = pd.read_csv(\"../data/processed/\"+t_file+\"_exploded.csv\")\n",
    "df_b = pd.read_csv(\"../data/processed/\"+b_file+\"_exploded.csv\")\n",
    "\n",
    "df_t[\"file\"]=\"trump\"\n",
    "df_b[\"file\"]=\"biden\"\n",
    "\n",
    "n = 250\n",
    "df_t = df_t.sample(n=n,random_state=42)\n",
    "df_b = df_b.sample(n=n,random_state=42)\n",
    "\n",
    "data = pd.concat([df_t,df_b])\n",
    "data[\"file\"].value_counts()"
   ]
  },
  {
   "cell_type": "code",
   "execution_count": 2,
   "metadata": {},
   "outputs": [
    {
     "name": "stdout",
     "output_type": "stream",
     "text": [
      "Name: \n",
      "Type: MultiGraph\n",
      "Number of nodes: 631\n",
      "Number of edges: 500\n",
      "Average degree:   1.5848\n"
     ]
    }
   ],
   "source": [
    "G = nx.DiGraph()\n",
    "\n",
    "G.add_nodes_from(data[\"hashtags\"].unique(),typ=\"hashtag\",bipartite=0)\n",
    "G.add_nodes_from(data[\"uniqueId\"].unique(),typ=\"user\",bipartite=1)\n",
    "\n",
    "edge_data_t = data[data[\"file\"]==\"trump\"]\n",
    "G.add_edges_from(list(zip(edge_data_t[\"hashtags\"],edge_data_t[\"uniqueId\"])),file=\"trump\")\n",
    "\n",
    "edge_data_b = data[data[\"file\"]==\"biden\"]\n",
    "G.add_edges_from(list(zip(edge_data_b[\"hashtags\"],edge_data_b[\"uniqueId\"])),file=\"biden\")\n",
    "print(nx.info(G))"
   ]
  },
  {
   "cell_type": "code",
   "execution_count": 5,
   "metadata": {},
   "outputs": [
    {
     "data": {
      "text/plain": [
       "MultiDegreeView({'fyp': 32, 'trump2020': 48, 'foryoupage': 11, 'momsoftiktok': 1, 'republican': 14, 'fy': 5, 'trump': 14, 'ripgeorge': 1, 'foryou': 14, 'obsessedwithit': 1, 'sometimesirun': 1, 'racism': 2, 'republicanhypehouse': 1, 'funny': 4, 'humantraffickingawareness': 1, 'idiocracy': 1, 'kanyewest': 1, 'greenscreen': 7, 'libertarian': 1, 'biden': 5, 'dumb': 1, 'sexisttrump': 1, 'laptopcat': 1, 'conservative': 10, 'camp': 1, 'nobelprize': 1, 'lawenforment': 1, 'blacklivesmatter': 2, 'dip': 1, 'xyzbca': 6, 'cnn': 2, 'biden2020': 44, 'copsoftiktok': 1, 'kaga': 1, 'positivity': 1, 'darkhumour': 1, 'notonething': 1, 'conservativehypehouse': 4, 'chrissy': 1, 'viral': 9, 'theweekndexp': 1, 'ford': 1, 'democrat': 3, 'foryourpage': 2, 'country': 1, 'bernie2020': 5, 'political': 1, 'votehimout': 1, 'breonnataylor': 1, 'patriot': 1, 'laugh': 1, 'whiteprivilege': 1, 'trumpsquad2020': 2, 'parody': 1, 'littlebitfancy': 1, 'bestpresident': 1, 'trumptrain': 3, '716': 1, 'blm': 2, 'texas': 1, 'summer': 1, '18andvoting': 1, 'gay': 2, 'liberal': 9, 'gop': 1, 'fypシ': 2, 'tiktokcooks': 2, 'rags2riches': 1, 'backtheblue': 1, 'voteformerlin': 1, 'usa': 2, 'ps5': 1, 'politics': 8, 'flyfishing': 1, 'lgbtq': 3, 'poltics': 1, 'stand': 1, '2020makeawish': 1, 'drinking': 1, 'truck': 1, 'xyzcba': 2, 'corona': 1, 'youhaveto': 1, 'unbiased': 1, 'toomanyshoes': 1, 'america': 3, 'veteran': 1, 'marxism': 1, 'bidenharris': 1, 'whaterwegondo?': 1, 'justiceforgeorgefloyd': 1, 'sleepyjoe': 1, 'redneck': 1, 'donaldtrump': 2, 'protestors': 1, 'art': 1, 'amazing': 1, 'xycbca': 1, 'whatsupdocchallenge': 1, 'canyouworkit': 1, 'not': 1, 'commonsense': 1, 'pocunity': 2, 'mit': 1, 'youthought': 1, 'greenscreenvideo': 2, 'trumpie': 1, 'stupidos': 1, 'queer': 2, 'ghostmode': 2, 'american': 1, 'lifebuoykarona': 1, 'vote': 10, 'imjealous': 1, 'prison': 1, 'animethings': 1, 'maga': 4, 'tiktok': 1, 'trout': 1, 'joebiden': 2, 'michiganfortrump': 1, 'masksrequired': 1, 'sabaramati': 1, 'photostory': 1, 'awake': 1, 'emmalu': 1, 'baby': 1, 'countrymusic': 1, 'leftistlogic': 2, 'portland': 1, 'graphic': 1, 'pandering': 1, 'liftedtrucks': 1, 'immuneupvapedown': 2, 'election2020': 2, 'kag': 1, 'themoreyouknow': 1, 'greenscreensticker': 2, 'gotv': 1, 'kindnessiseverything': 1, 'familydinner': 1, 'driplikethis': 1, 'fucktrump': 1, 'tiktokfashionmonth': 1, 'interiordesign': 1, 'dumptrump2020': 2, 'fun': 1, 'votered': 1, 'didyouknow': 1, 'healthcareforall': 1, 'alexandriaocasiocortez': 1, 'rbg': 1, 'wariscoming': 1, 'walkaway': 1, 'dopesauce': 1, 'anyways': 1, 'voteblue': 2, 'fypchallenge': 1, 'downersgrove': 1, 'bidenharris2020': 2, 'scarystories': 1, 'debate': 2, 'court': 1, 'hispanic': 1, 'collegegotmelike': 1, 'trumpcovidpositive': 1, 'snowflake': 1, 'settleforbiden': 1, 'florida': 1, 'militarytiktok': 1, 'strictlycurls': 1, 'truml': 1, 'may4th': 1, 'election': 4, 'comedy': 1, 'aoc': 1, 'presidentialdebate': 2, 'dnc': 1, 'polls': 1, 'hellofall': 1, 'strapback': 1, 'karen': 1, 'shotsfired': 1, 'tizzyent': 2, 'musiclesson': 1, '864511320': 1, 'comedyvideo': 1, 'dumptrump': 1, 'bernie': 1, 'fastfood': 1, 'president': 1, 'washingtondc': 1, 'yang2024': 1, 'clowncheck': 1, '2020election': 1, 'bidenforpresident': 1, 'lol': 1, 'blmmovement': 1, 'amen': 1, 'go': 1, 'men': 1, 'usvet': 1, 'cdc': 1, 'ourdadnow': 2, 'spectre': 1, 'thatwitch': 1, 'yardsigns': 1, 'nbc': 1, 'artober': 1, 'stupidpeople': 1, 'mybff': 1, 'elfmagicact': 1, 'dc': 1, 'goaway': 1, 'gaminglife': 1, 'jumpman': 1, 'leftist': 1, 'warzonetips': 1, 'trumpcorona': 1, 'supporter': 1, 'coronavirus': 1, 'ratethings': 1, 'stupid': 1, 'luc.rodriguess': 1, 'whitney.l.robbins': 1, 'theloraxpg58': 1, 'kenz_357': 1, 'donaldluvers': 1, 'spick33': 1, 'elleybobelly': 1, 'champagnemami4418': 1, 'kandisespo': 1, 'maddy.softball05': 1, 'officialericdavis': 1, 'claytonkeirns': 3, 'drewblazeofficial': 4, 'jon_dawson': 2, 'conservativeclub2020': 1, 'vaughn_zettler': 1, 'jonpaulpolitics': 1, 'jasonmiller6351': 1, 'mollie_jean': 1, 'chetanmukati13': 1, 'fakeblondebartender': 1, 'therepublicanhypehouse': 2, 'orneryporcupine': 1, 'carelessangel': 2, 'kenzcoke': 1, 'redboyhickibilly': 2, 'brett_noland': 1, 'itsmarcobitches': 1, 'iamgabesanchez': 1, 'altpoliticsofficial': 1, 'callijoyce04': 1, 'mattvs.politics': 1, 'arabianali64': 1, 'aocfanclub': 1, 'kenna.kemper': 1, 'emmanuelharouno': 6, 'dylanmaddentv': 1, 'zacklemoore22': 1, 'raihan.faz': 1, 'lexiejane.indigo': 1, 'carrotdildos': 1, 'timbotheredneck': 1, 'gopbros': 1, '_yanggang2024_': 2, 'treydmv': 1, 'the_troll_god': 2, 'angelinamarie5016': 1, 'michael_styles': 2, 'jimmycrackedhorn': 1, 'hennythe12': 2, 'alyssamariiee1': 1, 'standw1thyou': 2, 'the_sydpolak': 1, 'that.one.gop.account': 1, '_jersey_mike': 1, 'itss._christina': 1, 'mary_igy6': 1, 'm_mason12': 1, 'tayleroux13': 1, 'pr0udtexan': 1, 'tylershifflett7': 2, 'commonsenseconservative': 2, 'ty_reynolds6.2': 1, 'nicely.nicely': 1, 'thats.so.right': 6, 'victoriahammett': 4, 'malikrobledo': 1, 'fkn.mintt': 1, 'http.www.sophia.com': 1, 'ellasunshine51': 1, 'thatgirlontheleft': 1, 'hakunamatiti': 1, 'jself808': 1, 'surprisedleshawna': 1, 'mariecleod': 1, 'anthonykeithlynn_': 1, 'thinkingman420': 1, 'patriotko': 1, 'polseklipe': 1, 'tomabespoke': 1, 'gina.b.monat': 1, 'usa_2020_45': 1, 'emiliaclaire': 1, 'progressive_intel': 1, 'bjsims': 1, 'big_red_mustache.77': 1, 'niko.nice': 1, 'leftistjayce': 1, 'headass_joostin': 1, 'dawsonfeatherstone': 1, 'dcsangster': 1, 'htx_kaleb': 1, 'reallyjamaal': 1, 'girlgamer255': 1, 'thatveganteacher': 1, 'devingiannicchi': 1, 'sloane.stoklosa': 2, 'sophie.yoderr': 1, 'itsjasekay': 1, 'bigtucsondad': 1, 'leftastronaut': 1, 'grackle3000': 1, 'triggereddummy': 1, 'merlinragdoll': 1, 'theromandrake': 1, 'shedoenstloveco': 1, 'ceebums.com': 1, 'figgs_07': 1, 'niko_granados': 2, 'claytonfancher': 2, 'marx1st': 1, 'bright.skin._': 1, 'nevandpolitics': 1, 'aquathor33': 1, 'wvlatina': 1, 'therealmatthewclark': 1, 'late_x': 1, 'codyjenkins747': 1, 'camarocuddy': 1, 'ryanmimbs2': 1, 'bodittle': 3, 'scoluns': 2, '_letstalkpolitics_': 2, 'toast.on.crunch': 2, 'hbomb1020': 1, 'jamesfreemanyt': 1, 'yngmcezy': 1, 'its_sarahhh1': 1, 'tali_sweetheart_mom': 2, 'kieramarie.xx': 1, 'c.eyes': 1, 'pmiller_6': 1, 'csarthedog': 3, 'thehumanrightsgroup': 1, 'maxstirnerstan': 1, 'jace_from_statefarm': 1, 'christianwalk1r': 1, 'bradsmt': 1, 'eddieligersmith': 1, 'roghamlin': 1, 'dumbbirchtree': 1, 'thebsams': 2, 'basedredpill_': 1, 'katherineandra2020': 1, 'marzthemillenial': 1, 'tyson.pastor40': 1, 'facts4tiktokus': 1, 'heathergtv': 4, 'burdenworld_official': 1, 'thereal_daaavis': 1, 'michaelnast': 1, 'bfrashine': 2, 'literallyunique': 1, 'babydaddyabby': 1, 'lets_break_the_news': 1, 'californiaadventures': 1, 'alexismariex0': 1, 'emmapolitics': 2, 'reeceagainstrepublicans': 1, 'daddypakora': 1, 'someonestolemychromosome': 1, 'skeshboard': 1, 'karapayton_': 1, 'cmajors8': 1, 'aspicuzza': 2, 'kes_ny': 1, 'themschaotic': 1, 'african_lioness': 1, 'mr._savage_2020': 1, 'curlyheadedcapitalist': 1, 'dark.mp1': 1, 'lui_101499': 1, 'anarchojamunism': 1, 'rhymecombinator__': 1, 'emilysauce': 1, 'mattconvard': 4, 'problemabbic': 1, 'politicalsherrie': 1, 'lefty46': 1, 'peeps.wrld999': 1, 'rick_love_rema': 1, 'femmyglendy': 1, 'ellamarizzle': 1, 'forgodandglory': 2, 'conservative_videos2020': 1, 'skylar_marie910': 1, 'jacobsredgt': 1, 'beats.nate': 1, 'thebohemianmo': 1, 'jackkass0': 1, 'v.for.gen.z': 1, 'matty.merica': 1, 'juulstrtrkit': 1, 'gunslinging77': 1, 'conservative_crusader': 1, 'dunderwood020': 1, 'torigrimsey3': 1, 'clarkkent586': 1, 'kindaadumbwhore': 1, 'its_bog': 1, 'rodneyyyt': 1, 'paigesachs': 1, 'jordanpenafiel': 1, 'willmitrus_': 1, 'saveclaudia2020': 1, 'neelkanthreddy.m': 1, 'jacobwillis69': 1, 'that__pug': 1, 'actually.matthew': 1, 'simonreed_': 1, 'alwinin': 1, 'kbfamily': 1, 'jeremybokata49': 1, 'iamconnerbrown': 1, 'matts_alright': 5, 'jwilliamj': 5, 'apoliticalteen': 1, 'thesmoothtoad': 1, 'jacoballenknowlton': 1, 'natebearden': 1, 'loganlaney_': 1, 'fromeshasdiningtable': 1, 'kaivanshroff': 2, 'clawbossnj': 1, 'veroniquevanpelt': 1, 'boduke17': 1, 'nautical80': 1, 'ellaequeue': 1, 'trishlikefish88': 1, 'cat.kaya': 1, 'samano90': 1, 'katherineyesmi': 3, 'noahmaze': 2, 'valosapactor': 1, 'tiktokinpatinkin': 2, 'zootedjasmine': 1, 'steve_furb': 1, 'corrinscumhouse': 1, 'b00biezzzz420': 1, 'just.ella.69': 1, 'paddythepanda': 1, 'iconaklast': 1, 'loganforbis79': 2, 'meenaharris': 1, 'smane20': 1, 'maya2960': 1, 'lynwood_j420': 1, 'dylan.jost': 1, 'anthonymichaelclark': 2, 'callmemichie': 1, '1whydidyouleave1': 1, 'kimmienc': 1, 'aleksandraparrish': 1, 'christopher_notrdj': 1, 'patrickloller': 3, 'dhari2113': 1, 'mare.bearrrr': 1, 'thegoodliars': 2, 'andrewhallidaytiktok': 1, 'politicabby': 2, 'michaelschiumo': 1, 'ronanconley': 1, 'fitnessbysf': 1, 'aleahnelson_': 1, 'matt_herzog': 1, 'jasonpeterson_': 1, 'mauriciobustillos1': 1, 'melissalima713': 1, 'marquisemeda': 1, 'politicalmaster3333': 1, 'treybrockbank': 1, 'pfunk77': 1, 'memesforyou69lmao': 1, 'landenwilliams_': 1, 'theteendem': 3, 'lilyafterdark': 1, 'cyndehope': 1, 'somepeoplelikeit': 1, 'kailaish': 1, 'kkhalston': 1, 'leagueofheroes2020': 1, 'alternativeconservative': 1, 'curtisladylove': 1, 'abortionqweenn': 1, 'liberal_kevin': 1, 'cowboyconor': 5, 'trxrock': 1, 'luibanana': 1, 'shelbytomaiko': 1, 'usersweetbabybbq': 1, 'kalebrockhoff': 1, 'sighsaias': 1, 'nickriosss': 1, 'lexiszko': 1, 'deerodx': 1, 'mattduets': 1, 'justlaughalittle': 1, 'tommytsunami28': 1, 'carlygroves': 1, 'smilessobig': 1, 'typical_democrat': 2, 'davidquinonesjr': 1, 'samtalksaboutstuff': 1, 'yeehawgirly69': 1, 'muslimting': 2, 'yuh.ness': 2, 'republicans_only2020': 1, 'kristabender': 1, 'melfromtiktok': 1, 'taffyterd': 1, 'cleverchimp': 1, 'timmythesuperstar': 1, 'politicalclownn': 1, 'ih8babymario420': 1, 'candaceflynnofficial': 1, 'carsonthecommie': 1, 'rekcut_': 1, 'bagelandcreamcheese.com': 1, 'special_head': 1, 'andrewdeitsch': 1, 'zestyyyyyyyranch': 1, 'thevoteblueguy': 2, 'chabella054': 1, 'krdilks1': 1, 'matthewdetty': 1, 'connors.not.ok': 1, 'the_tired_millenial': 3, 'timmy_t_trainwreck': 1, 'thebuttshousehold': 2, 'kreadyroll': 1, 'd0jabat': 1, 'aaliyahtaco': 2, 'argozyylij': 1, 'onecunninggirl': 1, 'mikeylish': 1, 'nikkinoo813': 1, 'depressedgalsandpals': 1, 'seanwth': 1, 'parker._.p': 1, 'muza_wuza': 1, 'jeffepsteinwasmudered': 1, 'hannahaixa': 1, 'zebulunknuteson': 2, 'bren1477': 1, 'bread.chalk': 1, 'bazilfacebaby': 1, 'thepoliticalgirl': 1, 'mrs_mr.azumane': 1, 'michael.llll': 1, 'stella.foreman': 1, 'jiramymartinez': 1, 'hamza_jibril': 1, 'bellamarable': 1, 'veronicaslaven': 1, 'ajsrantroom': 1, '_luh.mel': 1, 'yaboylachlan': 1, 'divasmooth': 2, 'ratl2020': 2, 'greyssanatomyyy7': 1, 'omgegirl': 1, 'theamericanmoderate': 1, 'rey.nbows': 1, 'jaznotsorad': 1, 'moderateorcentrist': 1, 'drweaves': 1, 'jballa.0': 1, 'basel.diyad': 1, 'randy_lovegarden': 1, 'dr.eric.b': 1, 'dearyoufrombre': 1, 'fxcktrump69': 1, 'real_debates': 1, 'sassycharmelio': 1, 'benwylie1': 1, 'tatumgraygubler': 1, 'afewnachos': 1, 'bidenharris_': 1, 'tallskinnyali': 1, 'abbfilms': 1, 'sir_squatchalot': 1, 'teddythedoodledog': 1, 'lilgarbanzo': 1, 'israhirsi': 1, 'hit.me.with.a.toyota': 1, 'scandalyss__': 1, 'elizabethisxool': 1, 'iamnotokaaayyy': 1, 'uh.esti': 1, 'connerteriet': 1, 'lorenzolebsackofficial': 1, 'laurab_123': 1, 'sewpheeyuh': 1, 'comraderana': 1, 'andyce8': 1, 'olive.hannah.shelden': 1, 'giamurphyv1': 1, '0liviajulianna': 1, 'fatnutfred': 1, 'chopslap': 1, 'annashill': 1, 'bumbletiktok': 1, 'fiteamy': 1, 'letsetgovlog': 1, 'megan.pretzelll': 1, 'hispanthic': 1, 'catalinaacat': 1, 'soggyhotchip': 1})"
      ]
     },
     "execution_count": 5,
     "metadata": {},
     "output_type": "execute_result"
    }
   ],
   "source": [
    "G.degree()"
   ]
  },
  {
   "cell_type": "code",
   "execution_count": 44,
   "metadata": {},
   "outputs": [],
   "source": [
    "B = nx.spring_layout(G)"
   ]
  },
  {
   "cell_type": "code",
   "execution_count": 52,
   "metadata": {},
   "outputs": [],
   "source": [
    "edge_x = []\n",
    "edge_y = []\n",
    "for edge in G.edges():\n",
    "    x0, y0 = B[edge[0]]\n",
    "    x1, y1 = B[edge[1]]\n",
    "    edge_x.append(x0)\n",
    "    edge_x.append(x1)\n",
    "    edge_x.append(None)\n",
    "    edge_y.append(y0)\n",
    "    edge_y.append(y1)\n",
    "    edge_y.append(None)\n",
    "\n",
    "edge_trace = go.Scatter(\n",
    "    x=edge_x, y=edge_y,\n",
    "    line=dict(width=0.5, color='#888'),\n",
    "    hoverinfo='none',\n",
    "    mode='lines')\n",
    "\n",
    "node_x = []\n",
    "node_y = []\n",
    "for node in G.nodes():\n",
    "    x, y = B[node]\n",
    "    node_x.append(x)\n",
    "    node_y.append(y)\n",
    "\n",
    "node_trace = go.Scatter(\n",
    "    x=node_x, y=node_y,\n",
    "    mode='markers',\n",
    "    hoverinfo='text',\n",
    "    text=list(G.nodes()),\n",
    "    marker=dict(\n",
    "        showscale=True,\n",
    "        # colorscale options\n",
    "        #'Greys' | 'YlGnBu' | 'Greens' | 'YlOrRd' | 'Bluered' | 'RdBu' |\n",
    "        #'Reds' | 'Blues' | 'Picnic' | 'Rainbow' | 'Portland' | 'Jet' |\n",
    "        #'Hot' | 'Blackbody' | 'Earth' | 'Electric' | 'Viridis' |\n",
    "        colorscale='YlGnBu',\n",
    "        reversescale=True,\n",
    "        color=[],\n",
    "        size=1,\n",
    "        colorbar=dict(\n",
    "            thickness=15,\n",
    "            title='Node Connections',\n",
    "            xanchor='left',\n",
    "            titleside='right'\n",
    "        ),\n",
    "        line_width=2))\n",
    "\n",
    "node_adjacencies = []\n",
    "node_text = []\n",
    "for node, adjacencies in enumerate(G.adjacency()):\n",
    "    node_adjacencies.append(len(adjacencies[1]))\n",
    "    node_text.append('# of connections: '+str(len(adjacencies[1])))\n",
    "\n",
    "node_trace.marker.color = node_adjacencies\n",
    "node_trace.text = node_text\n",
    "\n",
    "degrees = [val for (node,val) in G.degree()]\n",
    "node_trace.marker.size = degrees\n",
    "fig = go.Figure(data=[edge_trace, node_trace],\n",
    "             layout=go.Layout(\n",
    "                title='<br>Network graph made with Python',\n",
    "                titlefont_size=16,\n",
    "                showlegend=False,\n",
    "                hovermode='closest',\n",
    "                margin=dict(b=20,l=5,r=5,t=40),\n",
    "                annotations=[ dict(\n",
    "                    text=\"Python code: <a href='https://plotly.com/ipython-notebooks/network-graphs/'> https://plotly.com/ipython-notebooks/network-graphs/</a>\",\n",
    "                    showarrow=False,\n",
    "                    xref=\"paper\", yref=\"paper\",\n",
    "                    x=0.005, y=-0.002 ) ],\n",
    "                xaxis=dict(showgrid=False, zeroline=False, showticklabels=False),\n",
    "                yaxis=dict(showgrid=False, zeroline=False, showticklabels=False))\n",
    "                )\n",
    "#fig.show()"
   ]
  },
  {
   "cell_type": "code",
   "execution_count": 66,
   "metadata": {},
   "outputs": [
    {
     "data": {
      "application/vnd.plotly.v1+json": {
       "config": {
        "plotlyServerURL": "https://plot.ly"
       },
       "data": [
        {
         "domain": {
          "x": [
           0,
           1
          ],
          "y": [
           0,
           1
          ]
         },
         "hovertemplate": "index=%{label}<br>hashtags=%{value}<extra></extra>",
         "labels": [
          "trump2020",
          "biden2020",
          "fyp",
          "foryou",
          "trump",
          "republican",
          "foryoupage",
          "vote",
          "conservative",
          "liberal",
          "viral",
          "politics",
          "greenscreen",
          "xyzbca",
          "fy",
          "biden",
          "bernie2020",
          "funny",
          "maga",
          "election",
          "democrat",
          "lgbtq",
          "america",
          "trumptrain",
          "leftistlogic"
         ],
         "legendgroup": "",
         "name": "",
         "showlegend": true,
         "type": "pie",
         "values": [
          48,
          44,
          32,
          14,
          14,
          14,
          11,
          10,
          10,
          9,
          9,
          8,
          7,
          6,
          5,
          5,
          5,
          4,
          4,
          4,
          3,
          3,
          3,
          3,
          2
         ]
        }
       ],
       "layout": {
        "legend": {
         "tracegroupgap": 0
        },
        "margin": {
         "t": 60
        },
        "template": {
         "data": {
          "bar": [
           {
            "error_x": {
             "color": "#2a3f5f"
            },
            "error_y": {
             "color": "#2a3f5f"
            },
            "marker": {
             "line": {
              "color": "#E5ECF6",
              "width": 0.5
             }
            },
            "type": "bar"
           }
          ],
          "barpolar": [
           {
            "marker": {
             "line": {
              "color": "#E5ECF6",
              "width": 0.5
             }
            },
            "type": "barpolar"
           }
          ],
          "carpet": [
           {
            "aaxis": {
             "endlinecolor": "#2a3f5f",
             "gridcolor": "white",
             "linecolor": "white",
             "minorgridcolor": "white",
             "startlinecolor": "#2a3f5f"
            },
            "baxis": {
             "endlinecolor": "#2a3f5f",
             "gridcolor": "white",
             "linecolor": "white",
             "minorgridcolor": "white",
             "startlinecolor": "#2a3f5f"
            },
            "type": "carpet"
           }
          ],
          "choropleth": [
           {
            "colorbar": {
             "outlinewidth": 0,
             "ticks": ""
            },
            "type": "choropleth"
           }
          ],
          "contour": [
           {
            "colorbar": {
             "outlinewidth": 0,
             "ticks": ""
            },
            "colorscale": [
             [
              0,
              "#0d0887"
             ],
             [
              0.1111111111111111,
              "#46039f"
             ],
             [
              0.2222222222222222,
              "#7201a8"
             ],
             [
              0.3333333333333333,
              "#9c179e"
             ],
             [
              0.4444444444444444,
              "#bd3786"
             ],
             [
              0.5555555555555556,
              "#d8576b"
             ],
             [
              0.6666666666666666,
              "#ed7953"
             ],
             [
              0.7777777777777778,
              "#fb9f3a"
             ],
             [
              0.8888888888888888,
              "#fdca26"
             ],
             [
              1,
              "#f0f921"
             ]
            ],
            "type": "contour"
           }
          ],
          "contourcarpet": [
           {
            "colorbar": {
             "outlinewidth": 0,
             "ticks": ""
            },
            "type": "contourcarpet"
           }
          ],
          "heatmap": [
           {
            "colorbar": {
             "outlinewidth": 0,
             "ticks": ""
            },
            "colorscale": [
             [
              0,
              "#0d0887"
             ],
             [
              0.1111111111111111,
              "#46039f"
             ],
             [
              0.2222222222222222,
              "#7201a8"
             ],
             [
              0.3333333333333333,
              "#9c179e"
             ],
             [
              0.4444444444444444,
              "#bd3786"
             ],
             [
              0.5555555555555556,
              "#d8576b"
             ],
             [
              0.6666666666666666,
              "#ed7953"
             ],
             [
              0.7777777777777778,
              "#fb9f3a"
             ],
             [
              0.8888888888888888,
              "#fdca26"
             ],
             [
              1,
              "#f0f921"
             ]
            ],
            "type": "heatmap"
           }
          ],
          "heatmapgl": [
           {
            "colorbar": {
             "outlinewidth": 0,
             "ticks": ""
            },
            "colorscale": [
             [
              0,
              "#0d0887"
             ],
             [
              0.1111111111111111,
              "#46039f"
             ],
             [
              0.2222222222222222,
              "#7201a8"
             ],
             [
              0.3333333333333333,
              "#9c179e"
             ],
             [
              0.4444444444444444,
              "#bd3786"
             ],
             [
              0.5555555555555556,
              "#d8576b"
             ],
             [
              0.6666666666666666,
              "#ed7953"
             ],
             [
              0.7777777777777778,
              "#fb9f3a"
             ],
             [
              0.8888888888888888,
              "#fdca26"
             ],
             [
              1,
              "#f0f921"
             ]
            ],
            "type": "heatmapgl"
           }
          ],
          "histogram": [
           {
            "marker": {
             "colorbar": {
              "outlinewidth": 0,
              "ticks": ""
             }
            },
            "type": "histogram"
           }
          ],
          "histogram2d": [
           {
            "colorbar": {
             "outlinewidth": 0,
             "ticks": ""
            },
            "colorscale": [
             [
              0,
              "#0d0887"
             ],
             [
              0.1111111111111111,
              "#46039f"
             ],
             [
              0.2222222222222222,
              "#7201a8"
             ],
             [
              0.3333333333333333,
              "#9c179e"
             ],
             [
              0.4444444444444444,
              "#bd3786"
             ],
             [
              0.5555555555555556,
              "#d8576b"
             ],
             [
              0.6666666666666666,
              "#ed7953"
             ],
             [
              0.7777777777777778,
              "#fb9f3a"
             ],
             [
              0.8888888888888888,
              "#fdca26"
             ],
             [
              1,
              "#f0f921"
             ]
            ],
            "type": "histogram2d"
           }
          ],
          "histogram2dcontour": [
           {
            "colorbar": {
             "outlinewidth": 0,
             "ticks": ""
            },
            "colorscale": [
             [
              0,
              "#0d0887"
             ],
             [
              0.1111111111111111,
              "#46039f"
             ],
             [
              0.2222222222222222,
              "#7201a8"
             ],
             [
              0.3333333333333333,
              "#9c179e"
             ],
             [
              0.4444444444444444,
              "#bd3786"
             ],
             [
              0.5555555555555556,
              "#d8576b"
             ],
             [
              0.6666666666666666,
              "#ed7953"
             ],
             [
              0.7777777777777778,
              "#fb9f3a"
             ],
             [
              0.8888888888888888,
              "#fdca26"
             ],
             [
              1,
              "#f0f921"
             ]
            ],
            "type": "histogram2dcontour"
           }
          ],
          "mesh3d": [
           {
            "colorbar": {
             "outlinewidth": 0,
             "ticks": ""
            },
            "type": "mesh3d"
           }
          ],
          "parcoords": [
           {
            "line": {
             "colorbar": {
              "outlinewidth": 0,
              "ticks": ""
             }
            },
            "type": "parcoords"
           }
          ],
          "pie": [
           {
            "automargin": true,
            "type": "pie"
           }
          ],
          "scatter": [
           {
            "marker": {
             "colorbar": {
              "outlinewidth": 0,
              "ticks": ""
             }
            },
            "type": "scatter"
           }
          ],
          "scatter3d": [
           {
            "line": {
             "colorbar": {
              "outlinewidth": 0,
              "ticks": ""
             }
            },
            "marker": {
             "colorbar": {
              "outlinewidth": 0,
              "ticks": ""
             }
            },
            "type": "scatter3d"
           }
          ],
          "scattercarpet": [
           {
            "marker": {
             "colorbar": {
              "outlinewidth": 0,
              "ticks": ""
             }
            },
            "type": "scattercarpet"
           }
          ],
          "scattergeo": [
           {
            "marker": {
             "colorbar": {
              "outlinewidth": 0,
              "ticks": ""
             }
            },
            "type": "scattergeo"
           }
          ],
          "scattergl": [
           {
            "marker": {
             "colorbar": {
              "outlinewidth": 0,
              "ticks": ""
             }
            },
            "type": "scattergl"
           }
          ],
          "scattermapbox": [
           {
            "marker": {
             "colorbar": {
              "outlinewidth": 0,
              "ticks": ""
             }
            },
            "type": "scattermapbox"
           }
          ],
          "scatterpolar": [
           {
            "marker": {
             "colorbar": {
              "outlinewidth": 0,
              "ticks": ""
             }
            },
            "type": "scatterpolar"
           }
          ],
          "scatterpolargl": [
           {
            "marker": {
             "colorbar": {
              "outlinewidth": 0,
              "ticks": ""
             }
            },
            "type": "scatterpolargl"
           }
          ],
          "scatterternary": [
           {
            "marker": {
             "colorbar": {
              "outlinewidth": 0,
              "ticks": ""
             }
            },
            "type": "scatterternary"
           }
          ],
          "surface": [
           {
            "colorbar": {
             "outlinewidth": 0,
             "ticks": ""
            },
            "colorscale": [
             [
              0,
              "#0d0887"
             ],
             [
              0.1111111111111111,
              "#46039f"
             ],
             [
              0.2222222222222222,
              "#7201a8"
             ],
             [
              0.3333333333333333,
              "#9c179e"
             ],
             [
              0.4444444444444444,
              "#bd3786"
             ],
             [
              0.5555555555555556,
              "#d8576b"
             ],
             [
              0.6666666666666666,
              "#ed7953"
             ],
             [
              0.7777777777777778,
              "#fb9f3a"
             ],
             [
              0.8888888888888888,
              "#fdca26"
             ],
             [
              1,
              "#f0f921"
             ]
            ],
            "type": "surface"
           }
          ],
          "table": [
           {
            "cells": {
             "fill": {
              "color": "#EBF0F8"
             },
             "line": {
              "color": "white"
             }
            },
            "header": {
             "fill": {
              "color": "#C8D4E3"
             },
             "line": {
              "color": "white"
             }
            },
            "type": "table"
           }
          ]
         },
         "layout": {
          "annotationdefaults": {
           "arrowcolor": "#2a3f5f",
           "arrowhead": 0,
           "arrowwidth": 1
          },
          "autotypenumbers": "strict",
          "coloraxis": {
           "colorbar": {
            "outlinewidth": 0,
            "ticks": ""
           }
          },
          "colorscale": {
           "diverging": [
            [
             0,
             "#8e0152"
            ],
            [
             0.1,
             "#c51b7d"
            ],
            [
             0.2,
             "#de77ae"
            ],
            [
             0.3,
             "#f1b6da"
            ],
            [
             0.4,
             "#fde0ef"
            ],
            [
             0.5,
             "#f7f7f7"
            ],
            [
             0.6,
             "#e6f5d0"
            ],
            [
             0.7,
             "#b8e186"
            ],
            [
             0.8,
             "#7fbc41"
            ],
            [
             0.9,
             "#4d9221"
            ],
            [
             1,
             "#276419"
            ]
           ],
           "sequential": [
            [
             0,
             "#0d0887"
            ],
            [
             0.1111111111111111,
             "#46039f"
            ],
            [
             0.2222222222222222,
             "#7201a8"
            ],
            [
             0.3333333333333333,
             "#9c179e"
            ],
            [
             0.4444444444444444,
             "#bd3786"
            ],
            [
             0.5555555555555556,
             "#d8576b"
            ],
            [
             0.6666666666666666,
             "#ed7953"
            ],
            [
             0.7777777777777778,
             "#fb9f3a"
            ],
            [
             0.8888888888888888,
             "#fdca26"
            ],
            [
             1,
             "#f0f921"
            ]
           ],
           "sequentialminus": [
            [
             0,
             "#0d0887"
            ],
            [
             0.1111111111111111,
             "#46039f"
            ],
            [
             0.2222222222222222,
             "#7201a8"
            ],
            [
             0.3333333333333333,
             "#9c179e"
            ],
            [
             0.4444444444444444,
             "#bd3786"
            ],
            [
             0.5555555555555556,
             "#d8576b"
            ],
            [
             0.6666666666666666,
             "#ed7953"
            ],
            [
             0.7777777777777778,
             "#fb9f3a"
            ],
            [
             0.8888888888888888,
             "#fdca26"
            ],
            [
             1,
             "#f0f921"
            ]
           ]
          },
          "colorway": [
           "#636efa",
           "#EF553B",
           "#00cc96",
           "#ab63fa",
           "#FFA15A",
           "#19d3f3",
           "#FF6692",
           "#B6E880",
           "#FF97FF",
           "#FECB52"
          ],
          "font": {
           "color": "#2a3f5f"
          },
          "geo": {
           "bgcolor": "white",
           "lakecolor": "white",
           "landcolor": "#E5ECF6",
           "showlakes": true,
           "showland": true,
           "subunitcolor": "white"
          },
          "hoverlabel": {
           "align": "left"
          },
          "hovermode": "closest",
          "mapbox": {
           "style": "light"
          },
          "paper_bgcolor": "white",
          "plot_bgcolor": "#E5ECF6",
          "polar": {
           "angularaxis": {
            "gridcolor": "white",
            "linecolor": "white",
            "ticks": ""
           },
           "bgcolor": "#E5ECF6",
           "radialaxis": {
            "gridcolor": "white",
            "linecolor": "white",
            "ticks": ""
           }
          },
          "scene": {
           "xaxis": {
            "backgroundcolor": "#E5ECF6",
            "gridcolor": "white",
            "gridwidth": 2,
            "linecolor": "white",
            "showbackground": true,
            "ticks": "",
            "zerolinecolor": "white"
           },
           "yaxis": {
            "backgroundcolor": "#E5ECF6",
            "gridcolor": "white",
            "gridwidth": 2,
            "linecolor": "white",
            "showbackground": true,
            "ticks": "",
            "zerolinecolor": "white"
           },
           "zaxis": {
            "backgroundcolor": "#E5ECF6",
            "gridcolor": "white",
            "gridwidth": 2,
            "linecolor": "white",
            "showbackground": true,
            "ticks": "",
            "zerolinecolor": "white"
           }
          },
          "shapedefaults": {
           "line": {
            "color": "#2a3f5f"
           }
          },
          "ternary": {
           "aaxis": {
            "gridcolor": "white",
            "linecolor": "white",
            "ticks": ""
           },
           "baxis": {
            "gridcolor": "white",
            "linecolor": "white",
            "ticks": ""
           },
           "bgcolor": "#E5ECF6",
           "caxis": {
            "gridcolor": "white",
            "linecolor": "white",
            "ticks": ""
           }
          },
          "title": {
           "x": 0.05
          },
          "xaxis": {
           "automargin": true,
           "gridcolor": "white",
           "linecolor": "white",
           "ticks": "",
           "title": {
            "standoff": 15
           },
           "zerolinecolor": "white",
           "zerolinewidth": 2
          },
          "yaxis": {
           "automargin": true,
           "gridcolor": "white",
           "linecolor": "white",
           "ticks": "",
           "title": {
            "standoff": 15
           },
           "zerolinecolor": "white",
           "zerolinewidth": 2
          }
         }
        }
       }
      }
     },
     "metadata": {},
     "output_type": "display_data"
    }
   ],
   "source": [
    "import plotly.express as px\n",
    "d = data[\"hashtags\"].value_counts().nlargest(25).to_frame()\n",
    "fig = px.pie(d,values=\"hashtags\",names=d.index)\n",
    "fig.show()"
   ]
  },
  {
   "cell_type": "code",
   "execution_count": 108,
   "metadata": {},
   "outputs": [
    {
     "ename": "ValueError",
     "evalue": "The first argument to the plotly.graph_objs.Pie \nconstructor must be a dict or \nan instance of :class:`plotly.graph_objs.Pie`",
     "output_type": "error",
     "traceback": [
      "\u001b[1;31m---------------------------------------------------------------------------\u001b[0m",
      "\u001b[1;31mValueError\u001b[0m                                Traceback (most recent call last)",
      "\u001b[1;32m<ipython-input-108-0e89ac8f3328>\u001b[0m in \u001b[0;36m<module>\u001b[1;34m\u001b[0m\n\u001b[0;32m     12\u001b[0m     subplot_titles=(\"Plot 1\", \"Plot 2\"))\n\u001b[0;32m     13\u001b[0m \u001b[1;33m\u001b[0m\u001b[0m\n\u001b[1;32m---> 14\u001b[1;33m \u001b[0mfig\u001b[0m\u001b[1;33m.\u001b[0m\u001b[0madd_trace\u001b[0m\u001b[1;33m(\u001b[0m\u001b[0mgo\u001b[0m\u001b[1;33m.\u001b[0m\u001b[0mPie\u001b[0m\u001b[1;33m(\u001b[0m\u001b[0md\u001b[0m\u001b[1;33m,\u001b[0m\u001b[0mvalues\u001b[0m\u001b[1;33m=\u001b[0m\u001b[1;33m[\u001b[0m\u001b[0mcounts_b\u001b[0m\u001b[1;33m[\u001b[0m\u001b[0mcounts_both\u001b[0m\u001b[1;33m[\u001b[0m\u001b[1;36m0\u001b[0m\u001b[1;33m]\u001b[0m\u001b[1;33m]\u001b[0m\u001b[1;33m,\u001b[0m\u001b[0mcounts_b\u001b[0m\u001b[1;33m[\u001b[0m\u001b[0mcounts_both\u001b[0m\u001b[1;33m[\u001b[0m\u001b[1;36m0\u001b[0m\u001b[1;33m]\u001b[0m\u001b[1;33m]\u001b[0m\u001b[1;33m]\u001b[0m\u001b[1;33m,\u001b[0m\u001b[0mnames\u001b[0m\u001b[1;33m=\u001b[0m\u001b[1;33m[\u001b[0m\u001b[1;34m\"trump\"\u001b[0m\u001b[1;33m,\u001b[0m\u001b[1;34m\"biden\"\u001b[0m\u001b[1;33m]\u001b[0m\u001b[1;33m)\u001b[0m\u001b[1;33m,\u001b[0m\u001b[0mrow\u001b[0m\u001b[1;33m=\u001b[0m\u001b[1;36m1\u001b[0m\u001b[1;33m,\u001b[0m\u001b[0mcol\u001b[0m\u001b[1;33m=\u001b[0m\u001b[1;36m1\u001b[0m\u001b[1;33m)\u001b[0m\u001b[1;33m\u001b[0m\u001b[1;33m\u001b[0m\u001b[0m\n\u001b[0m\u001b[0;32m     15\u001b[0m \u001b[0mfig\u001b[0m\u001b[1;33m.\u001b[0m\u001b[0madd_trace\u001b[0m\u001b[1;33m(\u001b[0m\u001b[0mpx\u001b[0m\u001b[1;33m.\u001b[0m\u001b[0mpie\u001b[0m\u001b[1;33m(\u001b[0m\u001b[0md\u001b[0m\u001b[1;33m,\u001b[0m\u001b[0mvalues\u001b[0m\u001b[1;33m=\u001b[0m\u001b[1;33m[\u001b[0m\u001b[0mcounts_b\u001b[0m\u001b[1;33m[\u001b[0m\u001b[0mcounts_both\u001b[0m\u001b[1;33m[\u001b[0m\u001b[1;36m1\u001b[0m\u001b[1;33m]\u001b[0m\u001b[1;33m]\u001b[0m\u001b[1;33m,\u001b[0m\u001b[0mcounts_b\u001b[0m\u001b[1;33m[\u001b[0m\u001b[0mcounts_both\u001b[0m\u001b[1;33m[\u001b[0m\u001b[1;36m1\u001b[0m\u001b[1;33m]\u001b[0m\u001b[1;33m]\u001b[0m\u001b[1;33m]\u001b[0m\u001b[1;33m,\u001b[0m\u001b[0mnames\u001b[0m\u001b[1;33m=\u001b[0m\u001b[1;33m[\u001b[0m\u001b[1;34m\"trump\"\u001b[0m\u001b[1;33m,\u001b[0m\u001b[1;34m\"biden\"\u001b[0m\u001b[1;33m]\u001b[0m\u001b[1;33m)\u001b[0m\u001b[1;33m,\u001b[0m\u001b[0mrow\u001b[0m\u001b[1;33m=\u001b[0m\u001b[1;36m1\u001b[0m\u001b[1;33m,\u001b[0m\u001b[0mcol\u001b[0m\u001b[1;33m=\u001b[0m\u001b[1;36m2\u001b[0m\u001b[1;33m)\u001b[0m\u001b[1;33m\u001b[0m\u001b[1;33m\u001b[0m\u001b[0m\n\u001b[0;32m     16\u001b[0m \u001b[0mfig\u001b[0m\u001b[1;33m.\u001b[0m\u001b[0mshow\u001b[0m\u001b[1;33m(\u001b[0m\u001b[1;33m)\u001b[0m\u001b[1;33m\u001b[0m\u001b[1;33m\u001b[0m\u001b[0m\n",
      "\u001b[1;32mD:\\Dev\\Anaconda3\\envs\\ds\\lib\\site-packages\\plotly\\graph_objs\\_pie.py\u001b[0m in \u001b[0;36m__init__\u001b[1;34m(self, arg, automargin, customdata, customdatasrc, direction, dlabel, domain, hole, hoverinfo, hoverinfosrc, hoverlabel, hovertemplate, hovertemplatesrc, hovertext, hovertextsrc, ids, idssrc, insidetextfont, insidetextorientation, label0, labels, labelssrc, legendgroup, marker, meta, metasrc, name, opacity, outsidetextfont, pull, pullsrc, rotation, scalegroup, showlegend, sort, stream, text, textfont, textinfo, textposition, textpositionsrc, textsrc, texttemplate, texttemplatesrc, title, titlefont, titleposition, uid, uirevision, values, valuessrc, visible, **kwargs)\u001b[0m\n\u001b[0;32m   2051\u001b[0m \u001b[0mThe\u001b[0m \u001b[0mfirst\u001b[0m \u001b[0margument\u001b[0m \u001b[0mto\u001b[0m \u001b[0mthe\u001b[0m \u001b[0mplotly\u001b[0m\u001b[1;33m.\u001b[0m\u001b[0mgraph_objs\u001b[0m\u001b[1;33m.\u001b[0m\u001b[0mPie\u001b[0m\u001b[1;33m\u001b[0m\u001b[1;33m\u001b[0m\u001b[0m\n\u001b[0;32m   2052\u001b[0m \u001b[0mconstructor\u001b[0m \u001b[0mmust\u001b[0m \u001b[0mbe\u001b[0m \u001b[0ma\u001b[0m \u001b[0mdict\u001b[0m \u001b[1;32mor\u001b[0m\u001b[1;33m\u001b[0m\u001b[1;33m\u001b[0m\u001b[0m\n\u001b[1;32m-> 2053\u001b[1;33m an instance of :class:`plotly.graph_objs.Pie`\"\"\"\n\u001b[0m\u001b[0;32m   2054\u001b[0m             )\n\u001b[0;32m   2055\u001b[0m \u001b[1;33m\u001b[0m\u001b[0m\n",
      "\u001b[1;31mValueError\u001b[0m: The first argument to the plotly.graph_objs.Pie \nconstructor must be a dict or \nan instance of :class:`plotly.graph_objs.Pie`"
     ]
    }
   ],
   "source": [
    "from plotly.subplots import make_subplots\n",
    "counts_b = df_b[\"hashtags\"].value_counts()\n",
    "counts_t = df_t[\"hashtags\"].value_counts()\n",
    "\n",
    "n=2\n",
    "counts_both = data[\"hashtags\"].value_counts().nlargest(n*n)\n",
    "\n",
    "counts_t\n",
    "\n",
    "fig = make_subplots(\n",
    "    rows=1, cols=2,\n",
    "    subplot_titles=(\"Plot 1\", \"Plot 2\"))\n",
    "\n",
    "fig.add_trace(go.Pie(d,values=[counts_b[counts_both[0]],counts_b[counts_both[0]]],names=[\"trump\",\"biden\"]),row=1,col=1)\n"
   ]
  },
  {
   "cell_type": "code",
   "execution_count": null,
   "metadata": {},
   "outputs": [],
   "source": [
    "n =10\n",
    "counts_both = data[\"hashtags\"].value_counts().nlargest(n)\n",
    "\n",
    "d = data[\"hashtags\"].value_counts().nlargest(n).to_frame()\n",
    "fig = px.pie(d,values=\"hashtags\",names=d.index)\n",
    "\n",
    "fig = make_subplots(\n",
    "    rows=10, cols=1,\n",
    "    subplot_titles=(counts_both.index))\n",
    "\n",
    "for i,hashtag in enumerate(counts_both.index):\n",
    "    fig.add_trace(px.pie(values=[counts_t[hashtag],counts_b[hashtag]],names=[\"trump\",\"biden\"]))"
   ]
  },
  {
   "cell_type": "code",
   "execution_count": null,
   "metadata": {},
   "outputs": [],
   "source": []
  },
  {
   "cell_type": "code",
   "execution_count": 12,
   "metadata": {},
   "outputs": [],
   "source": [
    "nx.write_gexf(G,\"../data/graphs/graph.gexf\")"
   ]
  },
  {
   "cell_type": "code",
   "execution_count": null,
   "metadata": {},
   "outputs": [],
   "source": []
  }
 ],
 "metadata": {
  "kernelspec": {
   "display_name": "Python 3",
   "language": "python",
   "name": "python3"
  },
  "language_info": {
   "codemirror_mode": {
    "name": "ipython",
    "version": 3
   },
   "file_extension": ".py",
   "mimetype": "text/x-python",
   "name": "python",
   "nbconvert_exporter": "python",
   "pygments_lexer": "ipython3",
   "version": "3.7.3"
  }
 },
 "nbformat": 4,
 "nbformat_minor": 4
}
