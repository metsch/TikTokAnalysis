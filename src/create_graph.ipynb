{
 "cells": [
  {
   "cell_type": "code",
   "execution_count": 38,
   "metadata": {},
   "outputs": [
    {
     "data": {
      "text/plain": [
       "biden    12793\n",
       "trump    12510\n",
       "Name: file, dtype: int64"
      ]
     },
     "execution_count": 38,
     "metadata": {},
     "output_type": "execute_result"
    }
   ],
   "source": [
    "import pandas as pd\n",
    "import networkx as nx\n",
    "from networkx.algorithms import bipartite\n",
    "import itertools\n",
    "import matplotlib.pyplot as plt\n",
    "\n",
    "t_file = \"trump_1811_1604410542\"\n",
    "b_file = \"biden_1817_1604410734\"\n",
    "\n",
    "df_t = pd.read_csv(\"../data/processed/\"+t_file+\"_exploded.csv\")\n",
    "df_b = pd.read_csv(\"../data/processed/\"+b_file+\"_exploded.csv\")\n",
    "\n",
    "df_t[\"file\"]=\"trump\"\n",
    "df_b[\"file\"]=\"biden\"\n",
    "\n",
    "data = pd.concat([df_t,df_b])\n",
    "data[\"file\"].value_counts()"
   ]
  },
  {
   "cell_type": "code",
   "execution_count": 45,
   "metadata": {},
   "outputs": [
    {
     "name": "stdout",
     "output_type": "stream",
     "text": [
      "Name: \n",
      "Type: MultiGraph\n",
      "Number of nodes: 5842\n",
      "Number of edges: 25303\n",
      "Average degree:   8.6624\n"
     ]
    }
   ],
   "source": [
    "M = nx.MultiGraph()\n",
    "\n",
    "M.add_nodes_from(data[\"hashtags\"].unique(),typ=\"hashtag\",bipartite=0)\n",
    "M.add_nodes_from(data[\"uniqueId\"].unique(),typ=\"user\",bipartite=1)\n",
    "\n",
    "edge_data_t = data[data[\"file\"]==\"trump\"]\n",
    "M.add_edges_from(list(zip(edge_data_t[\"hashtags\"],edge_data_t[\"uniqueId\"])),file=\"trump\",weight=1)\n",
    "\n",
    "edge_data_b = data[data[\"file\"]==\"biden\"]\n",
    "M.add_edges_from(list(zip(edge_data_b[\"hashtags\"],edge_data_b[\"uniqueId\"])),file=\"biden\",weight=1)\n",
    "print(nx.info(M))"
   ]
  },
  {
   "cell_type": "code",
   "execution_count": 52,
   "metadata": {},
   "outputs": [],
   "source": [
    "G = nx.Graph()\n",
    "for u,v,data in M.edges(data=True):\n",
    "    w = data['weight'] if 'weight' in data else 1.0\n",
    "    if G.has_edge(u,v):\n",
    "        G[u][v]['weight'] += w\n",
    "    else:\n",
    "        G.add_node(u,typ=\"hashtag\")\n",
    "        G.add_node(v,typ=\"user\")\n",
    "        G.add_edge(u, v, weight=w)"
   ]
  },
  {
   "cell_type": "code",
   "execution_count": 60,
   "metadata": {},
   "outputs": [
    {
     "name": "stdout",
     "output_type": "stream",
     "text": [
      "Name: \n",
      "Type: Graph\n",
      "Number of nodes: 3262\n",
      "Number of edges: 15134\n",
      "Average degree:   9.2790\n"
     ]
    }
   ],
   "source": [
    "remove = [node for node,degree in dict(G.degree()).items() if degree < 2]\n",
    "G.remove_nodes_from(remove)\n",
    "print(nx.info(G))"
   ]
  },
  {
   "cell_type": "code",
   "execution_count": 59,
   "metadata": {},
   "outputs": [],
   "source": [
    "nx.write_gexf(G,\"../data/graphs/graph.gexf\")"
   ]
  }
 ],
 "metadata": {
  "kernelspec": {
   "display_name": "Python 3",
   "language": "python",
   "name": "python3"
  },
  "language_info": {
   "codemirror_mode": {
    "name": "ipython",
    "version": 3
   },
   "file_extension": ".py",
   "mimetype": "text/x-python",
   "name": "python",
   "nbconvert_exporter": "python",
   "pygments_lexer": "ipython3",
   "version": "3.7.4"
  }
 },
 "nbformat": 4,
 "nbformat_minor": 4
}
